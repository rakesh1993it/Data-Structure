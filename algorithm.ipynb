{
 "cells": [
  {
   "cell_type": "markdown",
   "metadata": {},
   "source": [
    "# Binary Search"
   ]
  },
  {
   "cell_type": "code",
   "execution_count": null,
   "metadata": {
    "collapsed": true
   },
   "outputs": [],
   "source": [
    "def search(seq, key):\n",
    "    low = 0\n",
    "    heigh = len(seq)-1\n",
    "    \n",
    "    while(heigh >= low):\n",
    "        mid = low+(heigh-low)//2\n",
    "        \n",
    "        if(seq[mid]<key):\n",
    "            low = mid+1\n",
    "        elif(seq[mid]>key):\n",
    "            heigh = mid-1\n",
    "        else:\n",
    "            return(mid)\n",
    "        \n",
    "    return False"
   ]
  },
  {
   "cell_type": "code",
   "execution_count": 5,
   "metadata": {},
   "outputs": [
    {
     "data": {
      "text/plain": [
       "4"
      ]
     },
     "execution_count": 5,
     "metadata": {},
     "output_type": "execute_result"
    }
   ],
   "source": [
    "search([3,6,7,9,10,12,15,18], 10)"
   ]
  },
  {
   "cell_type": "code",
   "execution_count": 6,
   "metadata": {},
   "outputs": [
    {
     "data": {
      "text/plain": [
       "False"
      ]
     },
     "execution_count": 6,
     "metadata": {},
     "output_type": "execute_result"
    }
   ],
   "source": [
    "search([3,6,7,9,10,12,15,18], 11)"
   ]
  },
  {
   "cell_type": "markdown",
   "metadata": {},
   "source": [
    "# Bubble Sort"
   ]
  },
  {
   "cell_type": "code",
   "execution_count": 25,
   "metadata": {
    "collapsed": true
   },
   "outputs": [],
   "source": [
    "def sort(seq):\n",
    "    L = len(seq)\n",
    "    for i in range(L):\n",
    "        for j in range(0, L-i-1):\n",
    "            if(seq[j] > seq[j+1]):\n",
    "                seq[j], seq[j+1] = seq[j+1], seq[j]\n",
    "    return seq            "
   ]
  },
  {
   "cell_type": "code",
   "execution_count": 26,
   "metadata": {},
   "outputs": [
    {
     "data": {
      "text/plain": [
       "[1, 3, 4, 5, 6, 8, 9, 10]"
      ]
     },
     "execution_count": 26,
     "metadata": {},
     "output_type": "execute_result"
    }
   ],
   "source": [
    "sort([6,3,8,5,1,9,4,10])"
   ]
  },
  {
   "cell_type": "markdown",
   "metadata": {},
   "source": [
    "# Linear Search"
   ]
  },
  {
   "cell_type": "code",
   "execution_count": 34,
   "metadata": {
    "collapsed": true
   },
   "outputs": [],
   "source": [
    "def Linear_Search(seq,key):\n",
    "    height = len(seq) - 1\n",
    "    for i in range(height):\n",
    "        if(seq[i] == key):\n",
    "            return(i)\n",
    "        \n",
    "    return False"
   ]
  },
  {
   "cell_type": "code",
   "execution_count": 35,
   "metadata": {},
   "outputs": [
    {
     "data": {
      "text/plain": [
       "2"
      ]
     },
     "execution_count": 35,
     "metadata": {},
     "output_type": "execute_result"
    }
   ],
   "source": [
    "Linear_Search([3,6,7,2,9,10],7)"
   ]
  },
  {
   "cell_type": "code",
   "execution_count": 32,
   "metadata": {},
   "outputs": [
    {
     "data": {
      "text/plain": [
       "False"
      ]
     },
     "execution_count": 32,
     "metadata": {},
     "output_type": "execute_result"
    }
   ],
   "source": [
    "Linear_Search([3,6,7,2,9,10],8)"
   ]
  },
  {
   "cell_type": "code",
   "execution_count": 1,
   "metadata": {
    "collapsed": true
   },
   "outputs": [],
   "source": [
    "# Completed implementation of a stack ADT\n",
    "class Stack:\n",
    "    def __init__(self):\n",
    "        self.items = []\n",
    "    def is_empty(self):\n",
    "        return self.items == []\n",
    "    def push(self, item):\n",
    "        self.items.append(item)\n",
    "    def pop(self):\n",
    "        return self.items.pop()\n",
    "    def peek(self):\n",
    "        return self.items[len(self.items)-1]\n",
    "    def size(self):\n",
    "        return len(self.items)"
   ]
  },
  {
   "cell_type": "code",
   "execution_count": 2,
   "metadata": {},
   "outputs": [
    {
     "data": {
      "text/plain": [
       "1234"
      ]
     },
     "execution_count": 2,
     "metadata": {},
     "output_type": "execute_result"
    }
   ],
   "source": [
    "s = Stack()\n",
    "s.push('rakesh')\n",
    "s.push(12)\n",
    "s.push(1234)\n",
    "s.peek()"
   ]
  },
  {
   "cell_type": "code",
   "execution_count": null,
   "metadata": {
    "collapsed": true
   },
   "outputs": [],
   "source": [
    "s.push('rahul')\n",
    "while not s.is_empty():\n",
    "    s.peek()"
   ]
  },
  {
   "cell_type": "markdown",
   "metadata": {},
   "source": [
    "# Quick Sort"
   ]
  },
  {
   "cell_type": "markdown",
   "metadata": {},
   "source": [
    "This function takes last element as pivot, places\n",
    "the pivot element at its correct position in sorted array, and places all smaller (smaller than pivot)\n",
    "to left of pivot and all greater elements to right of pivot"
   ]
  },
  {
   "cell_type": "code",
   "execution_count": 10,
   "metadata": {},
   "outputs": [
    {
     "name": "stdout",
     "output_type": "stream",
     "text": [
      "Sorted array is:\n",
      "1\n",
      "5\n",
      "7\n",
      "8\n",
      "9\n",
      "10\n"
     ]
    }
   ],
   "source": [
    "def partition(arr,low,high):\n",
    "    i = ( low-1 )         # index of smaller element\n",
    "    pivot = arr[high]     # pivot\n",
    " \n",
    "    for j in range(low , high):\n",
    " \n",
    "        # If current element is smaller than or\n",
    "        # equal to pivot\n",
    "        if   arr[j] <= pivot:\n",
    "         \n",
    "            # increment index of smaller element\n",
    "            i = i+1\n",
    "            arr[i],arr[j] = arr[j],arr[i]\n",
    " \n",
    "    arr[i+1],arr[high] = arr[high],arr[i+1]\n",
    "    return ( i+1 )\n",
    " \n",
    "\n",
    " \n",
    "# Function to do Quick sort\n",
    "def quickSort(arr,low,high):\n",
    "    if low < high:\n",
    " \n",
    "        # pi is partitioning index, arr[p] is now\n",
    "        # at right place\n",
    "        pi = partition(arr,low,high)\n",
    " \n",
    "        # Separately sort elements before\n",
    "        # partition and after partition\n",
    "        quickSort(arr, low, pi-1)\n",
    "        quickSort(arr, pi+1, high)\n",
    " \n",
    "# Driver code to test above\n",
    "arr = [8, 7, 3, 9, 1, 5]\n",
    "n = len(arr)\n",
    "quickSort(arr,0,n-1)\n",
    "print (\"Sorted array is:\")\n",
    "for i in range(n):\n",
    "    print (\"%d\" %arr[i]),"
   ]
  },
  {
   "cell_type": "code",
   "execution_count": null,
   "metadata": {
    "collapsed": true
   },
   "outputs": [],
   "source": []
  }
 ],
 "metadata": {
  "kernelspec": {
   "display_name": "Python 3",
   "language": "python",
   "name": "python3"
  },
  "language_info": {
   "codemirror_mode": {
    "name": "ipython",
    "version": 3
   },
   "file_extension": ".py",
   "mimetype": "text/x-python",
   "name": "python",
   "nbconvert_exporter": "python",
   "pygments_lexer": "ipython3",
   "version": "3.6.1"
  }
 },
 "nbformat": 4,
 "nbformat_minor": 2
}
